{
  "nbformat": 4,
  "nbformat_minor": 0,
  "metadata": {
    "colab": {
      "name": "AlphabetSoupCharity_Optimization.ipynb",
      "provenance": [],
      "collapsed_sections": []
    },
    "kernelspec": {
      "name": "python3",
      "display_name": "Python 3"
    },
    "language_info": {
      "name": "python"
    }
  },
  "cells": [
    {
      "cell_type": "markdown",
      "source": [
        "# <font color='gold'>Deep Neural Network Hyperparameter Optimization\n",
        "<font color='gray'>Goal: 75%"
      ],
      "metadata": {
        "id": "zHJ3O7DFUXrb"
      }
    },
    {
      "cell_type": "code",
      "execution_count": null,
      "metadata": {
        "colab": {
          "base_uri": "https://localhost:8080/",
          "height": 496
        },
        "id": "Zz-Nd9dePzwp",
        "outputId": "3ecb8a3d-a478-4c41-cbda-1e7376b5afc8"
      },
      "outputs": [
        {
          "output_type": "execute_result",
          "data": {
            "text/plain": [
              "             EIN                                               NAME  \\\n",
              "34294  996009318              THE LIONS CLUB OF HONOLULU KAMEHAMEHA   \n",
              "34295  996010315           INTERNATIONAL ASSOCIATION OF LIONS CLUBS   \n",
              "34296  996012607                                PTA HAWAII CONGRESS   \n",
              "34297  996015768  AMERICAN FEDERATION OF GOVERNMENT EMPLOYEES LO...   \n",
              "34298  996086871                           WATERHOUSE CHARITABLE TR   \n",
              "\n",
              "      APPLICATION_TYPE       AFFILIATION CLASSIFICATION      USE_CASE  \\\n",
              "34294               T4       Independent          C1000    ProductDev   \n",
              "34295               T4  CompanySponsored          C3000    ProductDev   \n",
              "34296               T3  CompanySponsored          C2000  Preservation   \n",
              "34297               T5       Independent          C3000    ProductDev   \n",
              "34298               T3       Independent          C1000  Preservation   \n",
              "\n",
              "       ORGANIZATION  STATUS INCOME_AMT SPECIAL_CONSIDERATIONS   ASK_AMT  \\\n",
              "34294   Association       1          0                      N      5000   \n",
              "34295   Association       1          0                      N      5000   \n",
              "34296   Association       1          0                      N      5000   \n",
              "34297   Association       1          0                      N      5000   \n",
              "34298  Co-operative       1      1M-5M                      N  36500179   \n",
              "\n",
              "       IS_SUCCESSFUL  \n",
              "34294              0  \n",
              "34295              0  \n",
              "34296              0  \n",
              "34297              1  \n",
              "34298              0  "
            ],
            "text/html": [
              "\n",
              "  <div id=\"df-2a0e4c58-994c-4d7b-8a6e-dd153847e65b\">\n",
              "    <div class=\"colab-df-container\">\n",
              "      <div>\n",
              "<style scoped>\n",
              "    .dataframe tbody tr th:only-of-type {\n",
              "        vertical-align: middle;\n",
              "    }\n",
              "\n",
              "    .dataframe tbody tr th {\n",
              "        vertical-align: top;\n",
              "    }\n",
              "\n",
              "    .dataframe thead th {\n",
              "        text-align: right;\n",
              "    }\n",
              "</style>\n",
              "<table border=\"1\" class=\"dataframe\">\n",
              "  <thead>\n",
              "    <tr style=\"text-align: right;\">\n",
              "      <th></th>\n",
              "      <th>EIN</th>\n",
              "      <th>NAME</th>\n",
              "      <th>APPLICATION_TYPE</th>\n",
              "      <th>AFFILIATION</th>\n",
              "      <th>CLASSIFICATION</th>\n",
              "      <th>USE_CASE</th>\n",
              "      <th>ORGANIZATION</th>\n",
              "      <th>STATUS</th>\n",
              "      <th>INCOME_AMT</th>\n",
              "      <th>SPECIAL_CONSIDERATIONS</th>\n",
              "      <th>ASK_AMT</th>\n",
              "      <th>IS_SUCCESSFUL</th>\n",
              "    </tr>\n",
              "  </thead>\n",
              "  <tbody>\n",
              "    <tr>\n",
              "      <th>34294</th>\n",
              "      <td>996009318</td>\n",
              "      <td>THE LIONS CLUB OF HONOLULU KAMEHAMEHA</td>\n",
              "      <td>T4</td>\n",
              "      <td>Independent</td>\n",
              "      <td>C1000</td>\n",
              "      <td>ProductDev</td>\n",
              "      <td>Association</td>\n",
              "      <td>1</td>\n",
              "      <td>0</td>\n",
              "      <td>N</td>\n",
              "      <td>5000</td>\n",
              "      <td>0</td>\n",
              "    </tr>\n",
              "    <tr>\n",
              "      <th>34295</th>\n",
              "      <td>996010315</td>\n",
              "      <td>INTERNATIONAL ASSOCIATION OF LIONS CLUBS</td>\n",
              "      <td>T4</td>\n",
              "      <td>CompanySponsored</td>\n",
              "      <td>C3000</td>\n",
              "      <td>ProductDev</td>\n",
              "      <td>Association</td>\n",
              "      <td>1</td>\n",
              "      <td>0</td>\n",
              "      <td>N</td>\n",
              "      <td>5000</td>\n",
              "      <td>0</td>\n",
              "    </tr>\n",
              "    <tr>\n",
              "      <th>34296</th>\n",
              "      <td>996012607</td>\n",
              "      <td>PTA HAWAII CONGRESS</td>\n",
              "      <td>T3</td>\n",
              "      <td>CompanySponsored</td>\n",
              "      <td>C2000</td>\n",
              "      <td>Preservation</td>\n",
              "      <td>Association</td>\n",
              "      <td>1</td>\n",
              "      <td>0</td>\n",
              "      <td>N</td>\n",
              "      <td>5000</td>\n",
              "      <td>0</td>\n",
              "    </tr>\n",
              "    <tr>\n",
              "      <th>34297</th>\n",
              "      <td>996015768</td>\n",
              "      <td>AMERICAN FEDERATION OF GOVERNMENT EMPLOYEES LO...</td>\n",
              "      <td>T5</td>\n",
              "      <td>Independent</td>\n",
              "      <td>C3000</td>\n",
              "      <td>ProductDev</td>\n",
              "      <td>Association</td>\n",
              "      <td>1</td>\n",
              "      <td>0</td>\n",
              "      <td>N</td>\n",
              "      <td>5000</td>\n",
              "      <td>1</td>\n",
              "    </tr>\n",
              "    <tr>\n",
              "      <th>34298</th>\n",
              "      <td>996086871</td>\n",
              "      <td>WATERHOUSE CHARITABLE TR</td>\n",
              "      <td>T3</td>\n",
              "      <td>Independent</td>\n",
              "      <td>C1000</td>\n",
              "      <td>Preservation</td>\n",
              "      <td>Co-operative</td>\n",
              "      <td>1</td>\n",
              "      <td>1M-5M</td>\n",
              "      <td>N</td>\n",
              "      <td>36500179</td>\n",
              "      <td>0</td>\n",
              "    </tr>\n",
              "  </tbody>\n",
              "</table>\n",
              "</div>\n",
              "      <button class=\"colab-df-convert\" onclick=\"convertToInteractive('df-2a0e4c58-994c-4d7b-8a6e-dd153847e65b')\"\n",
              "              title=\"Convert this dataframe to an interactive table.\"\n",
              "              style=\"display:none;\">\n",
              "        \n",
              "  <svg xmlns=\"http://www.w3.org/2000/svg\" height=\"24px\"viewBox=\"0 0 24 24\"\n",
              "       width=\"24px\">\n",
              "    <path d=\"M0 0h24v24H0V0z\" fill=\"none\"/>\n",
              "    <path d=\"M18.56 5.44l.94 2.06.94-2.06 2.06-.94-2.06-.94-.94-2.06-.94 2.06-2.06.94zm-11 1L8.5 8.5l.94-2.06 2.06-.94-2.06-.94L8.5 2.5l-.94 2.06-2.06.94zm10 10l.94 2.06.94-2.06 2.06-.94-2.06-.94-.94-2.06-.94 2.06-2.06.94z\"/><path d=\"M17.41 7.96l-1.37-1.37c-.4-.4-.92-.59-1.43-.59-.52 0-1.04.2-1.43.59L10.3 9.45l-7.72 7.72c-.78.78-.78 2.05 0 2.83L4 21.41c.39.39.9.59 1.41.59.51 0 1.02-.2 1.41-.59l7.78-7.78 2.81-2.81c.8-.78.8-2.07 0-2.86zM5.41 20L4 18.59l7.72-7.72 1.47 1.35L5.41 20z\"/>\n",
              "  </svg>\n",
              "      </button>\n",
              "      \n",
              "  <style>\n",
              "    .colab-df-container {\n",
              "      display:flex;\n",
              "      flex-wrap:wrap;\n",
              "      gap: 12px;\n",
              "    }\n",
              "\n",
              "    .colab-df-convert {\n",
              "      background-color: #E8F0FE;\n",
              "      border: none;\n",
              "      border-radius: 50%;\n",
              "      cursor: pointer;\n",
              "      display: none;\n",
              "      fill: #1967D2;\n",
              "      height: 32px;\n",
              "      padding: 0 0 0 0;\n",
              "      width: 32px;\n",
              "    }\n",
              "\n",
              "    .colab-df-convert:hover {\n",
              "      background-color: #E2EBFA;\n",
              "      box-shadow: 0px 1px 2px rgba(60, 64, 67, 0.3), 0px 1px 3px 1px rgba(60, 64, 67, 0.15);\n",
              "      fill: #174EA6;\n",
              "    }\n",
              "\n",
              "    [theme=dark] .colab-df-convert {\n",
              "      background-color: #3B4455;\n",
              "      fill: #D2E3FC;\n",
              "    }\n",
              "\n",
              "    [theme=dark] .colab-df-convert:hover {\n",
              "      background-color: #434B5C;\n",
              "      box-shadow: 0px 1px 3px 1px rgba(0, 0, 0, 0.15);\n",
              "      filter: drop-shadow(0px 1px 2px rgba(0, 0, 0, 0.3));\n",
              "      fill: #FFFFFF;\n",
              "    }\n",
              "  </style>\n",
              "\n",
              "      <script>\n",
              "        const buttonEl =\n",
              "          document.querySelector('#df-2a0e4c58-994c-4d7b-8a6e-dd153847e65b button.colab-df-convert');\n",
              "        buttonEl.style.display =\n",
              "          google.colab.kernel.accessAllowed ? 'block' : 'none';\n",
              "\n",
              "        async function convertToInteractive(key) {\n",
              "          const element = document.querySelector('#df-2a0e4c58-994c-4d7b-8a6e-dd153847e65b');\n",
              "          const dataTable =\n",
              "            await google.colab.kernel.invokeFunction('convertToInteractive',\n",
              "                                                     [key], {});\n",
              "          if (!dataTable) return;\n",
              "\n",
              "          const docLinkHtml = 'Like what you see? Visit the ' +\n",
              "            '<a target=\"_blank\" href=https://colab.research.google.com/notebooks/data_table.ipynb>data table notebook</a>'\n",
              "            + ' to learn more about interactive tables.';\n",
              "          element.innerHTML = '';\n",
              "          dataTable['output_type'] = 'display_data';\n",
              "          await google.colab.output.renderOutput(dataTable, element);\n",
              "          const docLink = document.createElement('div');\n",
              "          docLink.innerHTML = docLinkHtml;\n",
              "          element.appendChild(docLink);\n",
              "        }\n",
              "      </script>\n",
              "    </div>\n",
              "  </div>\n",
              "  "
            ]
          },
          "metadata": {},
          "execution_count": 35
        }
      ],
      "source": [
        "# Import dependencies\n",
        "from sklearn.model_selection import train_test_split\n",
        "from sklearn.preprocessing import StandardScaler,OneHotEncoder\n",
        "import pandas as pd\n",
        "import tensorflow as tf\n",
        "\n",
        "# Set options to display max rows / columns in DFs\n",
        "pd.set_option('display.max_rows', None)\n",
        "pd.set_option('display.max_columns', None)\n",
        "\n",
        "df = pd.read_csv('charity_data.csv')\n",
        "df.tail()"
      ]
    },
    {
      "cell_type": "markdown",
      "source": [
        "## <font color='lightgreen'>Preprocessing"
      ],
      "metadata": {
        "id": "bIW_JuKqUJw1"
      }
    },
    {
      "cell_type": "markdown",
      "source": [
        "<font color='gray'>Check *categorical variables* for encoding.  Drop unnecessary columns and implement bucketing strategy."
      ],
      "metadata": {
        "id": "Vd-XTYRNUsJ4"
      }
    },
    {
      "cell_type": "code",
      "source": [
        "# Determine the number of unique values in each column.\n",
        "df.nunique()"
      ],
      "metadata": {
        "colab": {
          "base_uri": "https://localhost:8080/"
        },
        "id": "3azwZSOjTEhc",
        "outputId": "28057a04-ec04-4899-faaf-46ae2eefdefe"
      },
      "execution_count": null,
      "outputs": [
        {
          "output_type": "execute_result",
          "data": {
            "text/plain": [
              "EIN                       34299\n",
              "NAME                      19568\n",
              "APPLICATION_TYPE             17\n",
              "AFFILIATION                   6\n",
              "CLASSIFICATION               71\n",
              "USE_CASE                      5\n",
              "ORGANIZATION                  4\n",
              "STATUS                        2\n",
              "INCOME_AMT                    9\n",
              "SPECIAL_CONSIDERATIONS        2\n",
              "ASK_AMT                    8747\n",
              "IS_SUCCESSFUL                 2\n",
              "dtype: int64"
            ]
          },
          "metadata": {},
          "execution_count": 4
        }
      ]
    },
    {
      "cell_type": "code",
      "source": [
        "# Get columns with unique values under 100\n",
        "q_cols = df.nunique()[df.nunique() < 100].index\n",
        "q_cols"
      ],
      "metadata": {
        "colab": {
          "base_uri": "https://localhost:8080/"
        },
        "id": "JkT6rRGDR4_Z",
        "outputId": "4d5feb06-53e3-4d98-94a9-2217c120856d"
      },
      "execution_count": null,
      "outputs": [
        {
          "output_type": "execute_result",
          "data": {
            "text/plain": [
              "Index(['APPLICATION_TYPE', 'AFFILIATION', 'CLASSIFICATION', 'USE_CASE',\n",
              "       'ORGANIZATION', 'STATUS', 'INCOME_AMT', 'SPECIAL_CONSIDERATIONS',\n",
              "       'IS_SUCCESSFUL'],\n",
              "      dtype='object')"
            ]
          },
          "metadata": {},
          "execution_count": 5
        }
      ]
    },
    {
      "cell_type": "code",
      "source": [
        "# Print value counts for columns with unique values under 100\n",
        "for col in q_cols:\n",
        "  print(df[col].value_counts())\n",
        "  print('--------------------')"
      ],
      "metadata": {
        "colab": {
          "base_uri": "https://localhost:8080/"
        },
        "id": "3IzbXJS6QoQz",
        "outputId": "6e1f4acd-e3e2-42fe-dce8-973f95913020"
      },
      "execution_count": null,
      "outputs": [
        {
          "output_type": "stream",
          "name": "stdout",
          "text": [
            "T3     27037\n",
            "T4      1542\n",
            "T6      1216\n",
            "T5      1173\n",
            "T19     1065\n",
            "T8       737\n",
            "T7       725\n",
            "T10      528\n",
            "T9       156\n",
            "T13       66\n",
            "T12       27\n",
            "T2        16\n",
            "T25        3\n",
            "T14        3\n",
            "T29        2\n",
            "T15        2\n",
            "T17        1\n",
            "Name: APPLICATION_TYPE, dtype: int64\n",
            "--------------------\n",
            "Independent         18480\n",
            "CompanySponsored    15705\n",
            "Family/Parent          64\n",
            "National               33\n",
            "Regional               13\n",
            "Other                   4\n",
            "Name: AFFILIATION, dtype: int64\n",
            "--------------------\n",
            "C1000    17326\n",
            "C2000     6074\n",
            "C1200     4837\n",
            "C3000     1918\n",
            "C2100     1883\n",
            "C7000      777\n",
            "C1700      287\n",
            "C4000      194\n",
            "C5000      116\n",
            "C1270      114\n",
            "C2700      104\n",
            "C2800       95\n",
            "C7100       75\n",
            "C1300       58\n",
            "C1280       50\n",
            "C1230       36\n",
            "C1400       34\n",
            "C7200       32\n",
            "C2300       32\n",
            "C1240       30\n",
            "C8000       20\n",
            "C7120       18\n",
            "C1500       16\n",
            "C1800       15\n",
            "C6000       15\n",
            "C1250       14\n",
            "C8200       11\n",
            "C1238       10\n",
            "C1278       10\n",
            "C1235        9\n",
            "C1237        9\n",
            "C7210        7\n",
            "C2400        6\n",
            "C1720        6\n",
            "C4100        6\n",
            "C1257        5\n",
            "C1600        5\n",
            "C1260        3\n",
            "C2710        3\n",
            "C0           3\n",
            "C3200        2\n",
            "C1234        2\n",
            "C1246        2\n",
            "C1267        2\n",
            "C1256        2\n",
            "C2190        1\n",
            "C4200        1\n",
            "C2600        1\n",
            "C5200        1\n",
            "C1370        1\n",
            "C1248        1\n",
            "C6100        1\n",
            "C1820        1\n",
            "C1900        1\n",
            "C1236        1\n",
            "C3700        1\n",
            "C2570        1\n",
            "C1580        1\n",
            "C1245        1\n",
            "C2500        1\n",
            "C1570        1\n",
            "C1283        1\n",
            "C2380        1\n",
            "C1732        1\n",
            "C1728        1\n",
            "C2170        1\n",
            "C4120        1\n",
            "C8210        1\n",
            "C2561        1\n",
            "C4500        1\n",
            "C2150        1\n",
            "Name: CLASSIFICATION, dtype: int64\n",
            "--------------------\n",
            "Preservation     28095\n",
            "ProductDev        5671\n",
            "CommunityServ      384\n",
            "Heathcare          146\n",
            "Other                3\n",
            "Name: USE_CASE, dtype: int64\n",
            "--------------------\n",
            "Trust           23515\n",
            "Association     10255\n",
            "Co-operative      486\n",
            "Corporation        43\n",
            "Name: ORGANIZATION, dtype: int64\n",
            "--------------------\n",
            "1    34294\n",
            "0        5\n",
            "Name: STATUS, dtype: int64\n",
            "--------------------\n",
            "0                24388\n",
            "25000-99999       3747\n",
            "100000-499999     3374\n",
            "1M-5M              955\n",
            "1-9999             728\n",
            "10000-24999        543\n",
            "10M-50M            240\n",
            "5M-10M             185\n",
            "50M+               139\n",
            "Name: INCOME_AMT, dtype: int64\n",
            "--------------------\n",
            "N    34272\n",
            "Y       27\n",
            "Name: SPECIAL_CONSIDERATIONS, dtype: int64\n",
            "--------------------\n",
            "1    18261\n",
            "0    16038\n",
            "Name: IS_SUCCESSFUL, dtype: int64\n",
            "--------------------\n"
          ]
        }
      ]
    },
    {
      "cell_type": "code",
      "source": [
        "# Drop columns not relevant to analysis ['EIN', 'NAME', 'STATUS', 'SPECIAL_CONSIDERATIONS']\n",
        "application_df = df.drop(['EIN', 'NAME', 'STATUS', 'SPECIAL_CONSIDERATIONS'], axis=1).copy()"
      ],
      "metadata": {
        "id": "DnTZwRZ7QPke"
      },
      "execution_count": null,
      "outputs": []
    },
    {
      "cell_type": "code",
      "source": [
        "# Create function for bucketing categorical variable values\n",
        "\n",
        "def bucketing(col, n):\n",
        "  #create variable for valuecounts and list of values under count of n\n",
        "  cat_types = application_df[col].value_counts()\n",
        "  replace_category = list(cat_types[cat_types < n].index)\n",
        "\n",
        "  # Replace in dataframe\n",
        "  for app in replace_category:\n",
        "    application_df[col] = application_df[col].replace(app,\"Other\")\n",
        "\n",
        "  return application_df[col].value_counts()"
      ],
      "metadata": {
        "id": "BJJ2ZOdLaGIE"
      },
      "execution_count": null,
      "outputs": []
    },
    {
      "cell_type": "code",
      "source": [
        "# Visualize the value counts of APPLICATION_TYPE\n",
        "app_types = application_df.APPLICATION_TYPE.value_counts()\n",
        "\n",
        "import seaborn as sns\n",
        "sns.distplot(app_types, bins=10)"
      ],
      "metadata": {
        "colab": {
          "base_uri": "https://localhost:8080/",
          "height": 352
        },
        "id": "1DVlW9quQfLW",
        "outputId": "23fd11f6-5f97-4cf1-b65e-9de515e0fe40"
      },
      "execution_count": null,
      "outputs": [
        {
          "output_type": "stream",
          "name": "stderr",
          "text": [
            "/usr/local/lib/python3.7/dist-packages/seaborn/distributions.py:2619: FutureWarning: `distplot` is a deprecated function and will be removed in a future version. Please adapt your code to use either `displot` (a figure-level function with similar flexibility) or `histplot` (an axes-level function for histograms).\n",
            "  warnings.warn(msg, FutureWarning)\n"
          ]
        },
        {
          "output_type": "execute_result",
          "data": {
            "text/plain": [
              "<matplotlib.axes._subplots.AxesSubplot at 0x7f2859ad5e50>"
            ]
          },
          "metadata": {},
          "execution_count": 9
        },
        {
          "output_type": "display_data",
          "data": {
            "text/plain": [
              "<Figure size 432x288 with 1 Axes>"
            ],
            "image/png": "[encoded data removed]"
          },
          "metadata": {
            "needs_background": "light"
          }
        }
      ]
    },
    {
      "cell_type": "code",
      "source": [
        "# Visualize the value counts of CLASSIFICATION\n",
        "class_type = application_df.CLASSIFICATION.value_counts()\n",
        "\n",
        "sns.distplot(class_type, bins=10)"
      ],
      "metadata": {
        "colab": {
          "base_uri": "https://localhost:8080/",
          "height": 351
        },
        "id": "XlWltMtWT9qO",
        "outputId": "5ec155d2-de35-419e-d87b-a82e6c9973ec"
      },
      "execution_count": null,
      "outputs": [
        {
          "output_type": "stream",
          "name": "stderr",
          "text": [
            "/usr/local/lib/python3.7/dist-packages/seaborn/distributions.py:2619: FutureWarning: `distplot` is a deprecated function and will be removed in a future version. Please adapt your code to use either `displot` (a figure-level function with similar flexibility) or `histplot` (an axes-level function for histograms).\n",
            "  warnings.warn(msg, FutureWarning)\n"
          ]
        },
        {
          "output_type": "execute_result",
          "data": {
            "text/plain": [
              "<matplotlib.axes._subplots.AxesSubplot at 0x7f28597058d0>"
            ]
          },
          "metadata": {},
          "execution_count": 10
        },
        {
          "output_type": "display_data",
          "data": {
            "text/plain": [
              "<Figure size 432x288 with 1 Axes>"
            ],
            "image/png": "[encoded data removed]"
          },
          "metadata": {
            "needs_background": "light"
          }
        }
      ]
    },
    {
      "cell_type": "markdown",
      "source": [
        "<font color='gray'>*Bucket* rare events to \"Other\""
      ],
      "metadata": {
        "id": "G5-PdZy1dTVN"
      }
    },
    {
      "cell_type": "code",
      "source": [
        "bucketing('APPLICATION_TYPE', 1000)"
      ],
      "metadata": {
        "colab": {
          "base_uri": "https://localhost:8080/"
        },
        "id": "UtwaTn13TgWQ",
        "outputId": "9ce33fef-4c30-47b7-ad17-c60455cdb596"
      },
      "execution_count": null,
      "outputs": [
        {
          "output_type": "execute_result",
          "data": {
            "text/plain": [
              "T3       27037\n",
              "Other     2266\n",
              "T4        1542\n",
              "T6        1216\n",
              "T5        1173\n",
              "T19       1065\n",
              "Name: APPLICATION_TYPE, dtype: int64"
            ]
          },
          "metadata": {},
          "execution_count": 11
        }
      ]
    },
    {
      "cell_type": "code",
      "source": [
        "bucketing('CLASSIFICATION', 1000)"
      ],
      "metadata": {
        "colab": {
          "base_uri": "https://localhost:8080/"
        },
        "id": "V-dJ-Ou1UBgw",
        "outputId": "e021c5b0-c80e-4ef5-a1b5-5ce8a9c1a447"
      },
      "execution_count": null,
      "outputs": [
        {
          "output_type": "execute_result",
          "data": {
            "text/plain": [
              "C1000    17326\n",
              "C2000     6074\n",
              "C1200     4837\n",
              "Other     2261\n",
              "C3000     1918\n",
              "C2100     1883\n",
              "Name: CLASSIFICATION, dtype: int64"
            ]
          },
          "metadata": {},
          "execution_count": 12
        }
      ]
    },
    {
      "cell_type": "code",
      "source": [
        "bucketing('ORGANIZATION', 500)"
      ],
      "metadata": {
        "colab": {
          "base_uri": "https://localhost:8080/"
        },
        "id": "BIUWALnjdC9c",
        "outputId": "907f28f1-4a32-41c8-936a-f754c3a90943"
      },
      "execution_count": null,
      "outputs": [
        {
          "output_type": "execute_result",
          "data": {
            "text/plain": [
              "Trust          23515\n",
              "Association    10255\n",
              "Other            529\n",
              "Name: ORGANIZATION, dtype: int64"
            ]
          },
          "metadata": {},
          "execution_count": 13
        }
      ]
    },
    {
      "cell_type": "code",
      "source": [
        "bucketing('USE_CASE', 500)"
      ],
      "metadata": {
        "colab": {
          "base_uri": "https://localhost:8080/"
        },
        "id": "UBizGBLRdGbQ",
        "outputId": "d56b56e6-b04b-47c1-ec58-423c7a2f7c05"
      },
      "execution_count": null,
      "outputs": [
        {
          "output_type": "execute_result",
          "data": {
            "text/plain": [
              "Preservation    28095\n",
              "ProductDev       5671\n",
              "Other             533\n",
              "Name: USE_CASE, dtype: int64"
            ]
          },
          "metadata": {},
          "execution_count": 14
        }
      ]
    },
    {
      "cell_type": "code",
      "source": [
        "bucketing('AFFILIATION', 100)"
      ],
      "metadata": {
        "colab": {
          "base_uri": "https://localhost:8080/"
        },
        "id": "I-Dw_kB9dN_4",
        "outputId": "d0620ade-7e50-48e9-ae8d-15fc43751b62"
      },
      "execution_count": null,
      "outputs": [
        {
          "output_type": "execute_result",
          "data": {
            "text/plain": [
              "Independent         18480\n",
              "CompanySponsored    15705\n",
              "Other                 114\n",
              "Name: AFFILIATION, dtype: int64"
            ]
          },
          "metadata": {},
          "execution_count": 15
        }
      ]
    },
    {
      "cell_type": "markdown",
      "source": [
        "<font color='gray'>Encode categorical variables"
      ],
      "metadata": {
        "id": "rdbRTnpgVMT2"
      }
    },
    {
      "cell_type": "code",
      "source": [
        "application_df.dtypes"
      ],
      "metadata": {
        "colab": {
          "base_uri": "https://localhost:8080/"
        },
        "id": "d5fYQVfyUQBE",
        "outputId": "a03933d2-a093-474e-dc98-849e08c77ee1"
      },
      "execution_count": null,
      "outputs": [
        {
          "output_type": "execute_result",
          "data": {
            "text/plain": [
              "APPLICATION_TYPE    object\n",
              "AFFILIATION         object\n",
              "CLASSIFICATION      object\n",
              "USE_CASE            object\n",
              "ORGANIZATION        object\n",
              "INCOME_AMT          object\n",
              "ASK_AMT              int64\n",
              "IS_SUCCESSFUL        int64\n",
              "dtype: object"
            ]
          },
          "metadata": {},
          "execution_count": 16
        }
      ]
    },
    {
      "cell_type": "code",
      "source": [
        "# Generate our categorical variable lists\n",
        "cat_vars = application_df.dtypes[application_df.dtypes == 'object'].index\n",
        "cat_vars"
      ],
      "metadata": {
        "colab": {
          "base_uri": "https://localhost:8080/"
        },
        "id": "7rNW_3slVXKN",
        "outputId": "13e4f30c-12b4-41e8-ac85-1995fe120c40"
      },
      "execution_count": null,
      "outputs": [
        {
          "output_type": "execute_result",
          "data": {
            "text/plain": [
              "Index(['APPLICATION_TYPE', 'AFFILIATION', 'CLASSIFICATION', 'USE_CASE',\n",
              "       'ORGANIZATION', 'INCOME_AMT'],\n",
              "      dtype='object')"
            ]
          },
          "metadata": {},
          "execution_count": 17
        }
      ]
    },
    {
      "cell_type": "code",
      "source": [
        "# Create a OneHotEncoder instance\n",
        "enc = OneHotEncoder(sparse=False)\n",
        "\n",
        "# Fit and transform the OneHotEncoder using the categorical variable list\n",
        "encode_df = pd.DataFrame(enc.fit_transform(application_df[cat_vars]))\n",
        "\n",
        "# Add the encoded variable names to the dataframe\n",
        "encode_df.columns = enc.get_feature_names_out(cat_vars)\n",
        "encode_df.head(2)"
      ],
      "metadata": {
        "colab": {
          "base_uri": "https://localhost:8080/",
          "height": 193
        },
        "id": "256xf2C5VZ9l",
        "outputId": "352e8f5b-edd5-411a-862f-fb4f1f1b8bff"
      },
      "execution_count": null,
      "outputs": [
        {
          "output_type": "execute_result",
          "data": {
            "text/plain": [
              "   APPLICATION_TYPE_Other  APPLICATION_TYPE_T19  APPLICATION_TYPE_T3  \\\n",
              "0                     1.0                   0.0                  0.0   \n",
              "1                     0.0                   0.0                  1.0   \n",
              "\n",
              "   APPLICATION_TYPE_T4  APPLICATION_TYPE_T5  APPLICATION_TYPE_T6  \\\n",
              "0                  0.0                  0.0                  0.0   \n",
              "1                  0.0                  0.0                  0.0   \n",
              "\n",
              "   AFFILIATION_CompanySponsored  AFFILIATION_Independent  AFFILIATION_Other  \\\n",
              "0                           0.0                      1.0                0.0   \n",
              "1                           0.0                      1.0                0.0   \n",
              "\n",
              "   CLASSIFICATION_C1000  CLASSIFICATION_C1200  CLASSIFICATION_C2000  \\\n",
              "0                   1.0                   0.0                   0.0   \n",
              "1                   0.0                   0.0                   1.0   \n",
              "\n",
              "   CLASSIFICATION_C2100  CLASSIFICATION_C3000  CLASSIFICATION_Other  \\\n",
              "0                   0.0                   0.0                   0.0   \n",
              "1                   0.0                   0.0                   0.0   \n",
              "\n",
              "   USE_CASE_Other  USE_CASE_Preservation  USE_CASE_ProductDev  \\\n",
              "0             0.0                    0.0                  1.0   \n",
              "1             0.0                    1.0                  0.0   \n",
              "\n",
              "   ORGANIZATION_Association  ORGANIZATION_Other  ORGANIZATION_Trust  \\\n",
              "0                       1.0                 0.0                 0.0   \n",
              "1                       0.0                 1.0                 0.0   \n",
              "\n",
              "   INCOME_AMT_0  INCOME_AMT_1-9999  INCOME_AMT_10000-24999  \\\n",
              "0           1.0                0.0                     0.0   \n",
              "1           0.0                1.0                     0.0   \n",
              "\n",
              "   INCOME_AMT_100000-499999  INCOME_AMT_10M-50M  INCOME_AMT_1M-5M  \\\n",
              "0                       0.0                 0.0               0.0   \n",
              "1                       0.0                 0.0               0.0   \n",
              "\n",
              "   INCOME_AMT_25000-99999  INCOME_AMT_50M+  INCOME_AMT_5M-10M  \n",
              "0                     0.0              0.0                0.0  \n",
              "1                     0.0              0.0                0.0  "
            ],
            "text/html": [
              "\n",
              "  <div id=\"df-6602e74b-b149-4c4d-ab1a-209506023462\">\n",
              "    <div class=\"colab-df-container\">\n",
              "      <div>\n",
              "<style scoped>\n",
              "    .dataframe tbody tr th:only-of-type {\n",
              "        vertical-align: middle;\n",
              "    }\n",
              "\n",
              "    .dataframe tbody tr th {\n",
              "        vertical-align: top;\n",
              "    }\n",
              "\n",
              "    .dataframe thead th {\n",
              "        text-align: right;\n",
              "    }\n",
              "</style>\n",
              "<table border=\"1\" class=\"dataframe\">\n",
              "  <thead>\n",
              "    <tr style=\"text-align: right;\">\n",
              "      <th></th>\n",
              "      <th>APPLICATION_TYPE_Other</th>\n",
              "      <th>APPLICATION_TYPE_T19</th>\n",
              "      <th>APPLICATION_TYPE_T3</th>\n",
              "      <th>APPLICATION_TYPE_T4</th>\n",
              "      <th>APPLICATION_TYPE_T5</th>\n",
              "      <th>APPLICATION_TYPE_T6</th>\n",
              "      <th>AFFILIATION_CompanySponsored</th>\n",
              "      <th>AFFILIATION_Independent</th>\n",
              "      <th>AFFILIATION_Other</th>\n",
              "      <th>CLASSIFICATION_C1000</th>\n",
              "      <th>CLASSIFICATION_C1200</th>\n",
              "      <th>CLASSIFICATION_C2000</th>\n",
              "      <th>CLASSIFICATION_C2100</th>\n",
              "      <th>CLASSIFICATION_C3000</th>\n",
              "      <th>CLASSIFICATION_Other</th>\n",
              "      <th>USE_CASE_Other</th>\n",
              "      <th>USE_CASE_Preservation</th>\n",
              "      <th>USE_CASE_ProductDev</th>\n",
              "      <th>ORGANIZATION_Association</th>\n",
              "      <th>ORGANIZATION_Other</th>\n",
              "      <th>ORGANIZATION_Trust</th>\n",
              "      <th>INCOME_AMT_0</th>\n",
              "      <th>INCOME_AMT_1-9999</th>\n",
              "      <th>INCOME_AMT_10000-24999</th>\n",
              "      <th>INCOME_AMT_100000-499999</th>\n",
              "      <th>INCOME_AMT_10M-50M</th>\n",
              "      <th>INCOME_AMT_1M-5M</th>\n",
              "      <th>INCOME_AMT_25000-99999</th>\n",
              "      <th>INCOME_AMT_50M+</th>\n",
              "      <th>INCOME_AMT_5M-10M</th>\n",
              "    </tr>\n",
              "  </thead>\n",
              "  <tbody>\n",
              "    <tr>\n",
              "      <th>0</th>\n",
              "      <td>1.0</td>\n",
              "      <td>0.0</td>\n",
              "      <td>0.0</td>\n",
              "      <td>0.0</td>\n",
              "      <td>0.0</td>\n",
              "      <td>0.0</td>\n",
              "      <td>0.0</td>\n",
              "      <td>1.0</td>\n",
              "      <td>0.0</td>\n",
              "      <td>1.0</td>\n",
              "      <td>0.0</td>\n",
              "      <td>0.0</td>\n",
              "      <td>0.0</td>\n",
              "      <td>0.0</td>\n",
              "      <td>0.0</td>\n",
              "      <td>0.0</td>\n",
              "      <td>0.0</td>\n",
              "      <td>1.0</td>\n",
              "      <td>1.0</td>\n",
              "      <td>0.0</td>\n",
              "      <td>0.0</td>\n",
              "      <td>1.0</td>\n",
              "      <td>0.0</td>\n",
              "      <td>0.0</td>\n",
              "      <td>0.0</td>\n",
              "      <td>0.0</td>\n",
              "      <td>0.0</td>\n",
              "      <td>0.0</td>\n",
              "      <td>0.0</td>\n",
              "      <td>0.0</td>\n",
              "    </tr>\n",
              "    <tr>\n",
              "      <th>1</th>\n",
              "      <td>0.0</td>\n",
              "      <td>0.0</td>\n",
              "      <td>1.0</td>\n",
              "      <td>0.0</td>\n",
              "      <td>0.0</td>\n",
              "      <td>0.0</td>\n",
              "      <td>0.0</td>\n",
              "      <td>1.0</td>\n",
              "      <td>0.0</td>\n",
              "      <td>0.0</td>\n",
              "      <td>0.0</td>\n",
              "      <td>1.0</td>\n",
              "      <td>0.0</td>\n",
              "      <td>0.0</td>\n",
              "      <td>0.0</td>\n",
              "      <td>0.0</td>\n",
              "      <td>1.0</td>\n",
              "      <td>0.0</td>\n",
              "      <td>0.0</td>\n",
              "      <td>1.0</td>\n",
              "      <td>0.0</td>\n",
              "      <td>0.0</td>\n",
              "      <td>1.0</td>\n",
              "      <td>0.0</td>\n",
              "      <td>0.0</td>\n",
              "      <td>0.0</td>\n",
              "      <td>0.0</td>\n",
              "      <td>0.0</td>\n",
              "      <td>0.0</td>\n",
              "      <td>0.0</td>\n",
              "    </tr>\n",
              "  </tbody>\n",
              "</table>\n",
              "</div>\n",
              "      <button class=\"colab-df-convert\" onclick=\"convertToInteractive('df-6602e74b-b149-4c4d-ab1a-209506023462')\"\n",
              "              title=\"Convert this dataframe to an interactive table.\"\n",
              "              style=\"display:none;\">\n",
              "        \n",
              "  <svg xmlns=\"http://www.w3.org/2000/svg\" height=\"24px\"viewBox=\"0 0 24 24\"\n",
              "       width=\"24px\">\n",
              "    <path d=\"M0 0h24v24H0V0z\" fill=\"none\"/>\n",
              "    <path d=\"M18.56 5.44l.94 2.06.94-2.06 2.06-.94-2.06-.94-.94-2.06-.94 2.06-2.06.94zm-11 1L8.5 8.5l.94-2.06 2.06-.94-2.06-.94L8.5 2.5l-.94 2.06-2.06.94zm10 10l.94 2.06.94-2.06 2.06-.94-2.06-.94-.94-2.06-.94 2.06-2.06.94z\"/><path d=\"M17.41 7.96l-1.37-1.37c-.4-.4-.92-.59-1.43-.59-.52 0-1.04.2-1.43.59L10.3 9.45l-7.72 7.72c-.78.78-.78 2.05 0 2.83L4 21.41c.39.39.9.59 1.41.59.51 0 1.02-.2 1.41-.59l7.78-7.78 2.81-2.81c.8-.78.8-2.07 0-2.86zM5.41 20L4 18.59l7.72-7.72 1.47 1.35L5.41 20z\"/>\n",
              "  </svg>\n",
              "      </button>\n",
              "      \n",
              "  <style>\n",
              "    .colab-df-container {\n",
              "      display:flex;\n",
              "      flex-wrap:wrap;\n",
              "      gap: 12px;\n",
              "    }\n",
              "\n",
              "    .colab-df-convert {\n",
              "      background-color: #E8F0FE;\n",
              "      border: none;\n",
              "      border-radius: 50%;\n",
              "      cursor: pointer;\n",
              "      display: none;\n",
              "      fill: #1967D2;\n",
              "      height: 32px;\n",
              "      padding: 0 0 0 0;\n",
              "      width: 32px;\n",
              "    }\n",
              "\n",
              "    .colab-df-convert:hover {\n",
              "      background-color: #E2EBFA;\n",
              "      box-shadow: 0px 1px 2px rgba(60, 64, 67, 0.3), 0px 1px 3px 1px rgba(60, 64, 67, 0.15);\n",
              "      fill: #174EA6;\n",
              "    }\n",
              "\n",
              "    [theme=dark] .colab-df-convert {\n",
              "      background-color: #3B4455;\n",
              "      fill: #D2E3FC;\n",
              "    }\n",
              "\n",
              "    [theme=dark] .colab-df-convert:hover {\n",
              "      background-color: #434B5C;\n",
              "      box-shadow: 0px 1px 3px 1px rgba(0, 0, 0, 0.15);\n",
              "      filter: drop-shadow(0px 1px 2px rgba(0, 0, 0, 0.3));\n",
              "      fill: #FFFFFF;\n",
              "    }\n",
              "  </style>\n",
              "\n",
              "      <script>\n",
              "        const buttonEl =\n",
              "          document.querySelector('#df-6602e74b-b149-4c4d-ab1a-209506023462 button.colab-df-convert');\n",
              "        buttonEl.style.display =\n",
              "          google.colab.kernel.accessAllowed ? 'block' : 'none';\n",
              "\n",
              "        async function convertToInteractive(key) {\n",
              "          const element = document.querySelector('#df-6602e74b-b149-4c4d-ab1a-209506023462');\n",
              "          const dataTable =\n",
              "            await google.colab.kernel.invokeFunction('convertToInteractive',\n",
              "                                                     [key], {});\n",
              "          if (!dataTable) return;\n",
              "\n",
              "          const docLinkHtml = 'Like what you see? Visit the ' +\n",
              "            '<a target=\"_blank\" href=https://colab.research.google.com/notebooks/data_table.ipynb>data table notebook</a>'\n",
              "            + ' to learn more about interactive tables.';\n",
              "          element.innerHTML = '';\n",
              "          dataTable['output_type'] = 'display_data';\n",
              "          await google.colab.output.renderOutput(dataTable, element);\n",
              "          const docLink = document.createElement('div');\n",
              "          docLink.innerHTML = docLinkHtml;\n",
              "          element.appendChild(docLink);\n",
              "        }\n",
              "      </script>\n",
              "    </div>\n",
              "  </div>\n",
              "  "
            ]
          },
          "metadata": {},
          "execution_count": 18
        }
      ]
    },
    {
      "cell_type": "code",
      "source": [
        "# Merge one-hot encoded features and drop the originals\n",
        "prepped_df = application_df.merge(encode_df, left_index=True, right_index=True)\n",
        "prepped_df = prepped_df.drop(cat_vars, axis=1)\n",
        "prepped_df.head(2)"
      ],
      "metadata": {
        "colab": {
          "base_uri": "https://localhost:8080/",
          "height": 193
        },
        "id": "mNYMXBGLVizj",
        "outputId": "45e5bdf8-c090-48b7-f120-07837f503f71"
      },
      "execution_count": null,
      "outputs": [
        {
          "output_type": "execute_result",
          "data": {
            "text/plain": [
              "   ASK_AMT  IS_SUCCESSFUL  APPLICATION_TYPE_Other  APPLICATION_TYPE_T19  \\\n",
              "0     5000              1                     1.0                   0.0   \n",
              "1   108590              1                     0.0                   0.0   \n",
              "\n",
              "   APPLICATION_TYPE_T3  APPLICATION_TYPE_T4  APPLICATION_TYPE_T5  \\\n",
              "0                  0.0                  0.0                  0.0   \n",
              "1                  1.0                  0.0                  0.0   \n",
              "\n",
              "   APPLICATION_TYPE_T6  AFFILIATION_CompanySponsored  AFFILIATION_Independent  \\\n",
              "0                  0.0                           0.0                      1.0   \n",
              "1                  0.0                           0.0                      1.0   \n",
              "\n",
              "   AFFILIATION_Other  CLASSIFICATION_C1000  CLASSIFICATION_C1200  \\\n",
              "0                0.0                   1.0                   0.0   \n",
              "1                0.0                   0.0                   0.0   \n",
              "\n",
              "   CLASSIFICATION_C2000  CLASSIFICATION_C2100  CLASSIFICATION_C3000  \\\n",
              "0                   0.0                   0.0                   0.0   \n",
              "1                   1.0                   0.0                   0.0   \n",
              "\n",
              "   CLASSIFICATION_Other  USE_CASE_Other  USE_CASE_Preservation  \\\n",
              "0                   0.0             0.0                    0.0   \n",
              "1                   0.0             0.0                    1.0   \n",
              "\n",
              "   USE_CASE_ProductDev  ORGANIZATION_Association  ORGANIZATION_Other  \\\n",
              "0                  1.0                       1.0                 0.0   \n",
              "1                  0.0                       0.0                 1.0   \n",
              "\n",
              "   ORGANIZATION_Trust  INCOME_AMT_0  INCOME_AMT_1-9999  \\\n",
              "0                 0.0           1.0                0.0   \n",
              "1                 0.0           0.0                1.0   \n",
              "\n",
              "   INCOME_AMT_10000-24999  INCOME_AMT_100000-499999  INCOME_AMT_10M-50M  \\\n",
              "0                     0.0                       0.0                 0.0   \n",
              "1                     0.0                       0.0                 0.0   \n",
              "\n",
              "   INCOME_AMT_1M-5M  INCOME_AMT_25000-99999  INCOME_AMT_50M+  \\\n",
              "0               0.0                     0.0              0.0   \n",
              "1               0.0                     0.0              0.0   \n",
              "\n",
              "   INCOME_AMT_5M-10M  \n",
              "0                0.0  \n",
              "1                0.0  "
            ],
            "text/html": [
              "\n",
              "  <div id=\"df-7493365e-0e8e-4893-ac29-fd493708ebca\">\n",
              "    <div class=\"colab-df-container\">\n",
              "      <div>\n",
              "<style scoped>\n",
              "    .dataframe tbody tr th:only-of-type {\n",
              "        vertical-align: middle;\n",
              "    }\n",
              "\n",
              "    .dataframe tbody tr th {\n",
              "        vertical-align: top;\n",
              "    }\n",
              "\n",
              "    .dataframe thead th {\n",
              "        text-align: right;\n",
              "    }\n",
              "</style>\n",
              "<table border=\"1\" class=\"dataframe\">\n",
              "  <thead>\n",
              "    <tr style=\"text-align: right;\">\n",
              "      <th></th>\n",
              "      <th>ASK_AMT</th>\n",
              "      <th>IS_SUCCESSFUL</th>\n",
              "      <th>APPLICATION_TYPE_Other</th>\n",
              "      <th>APPLICATION_TYPE_T19</th>\n",
              "      <th>APPLICATION_TYPE_T3</th>\n",
              "      <th>APPLICATION_TYPE_T4</th>\n",
              "      <th>APPLICATION_TYPE_T5</th>\n",
              "      <th>APPLICATION_TYPE_T6</th>\n",
              "      <th>AFFILIATION_CompanySponsored</th>\n",
              "      <th>AFFILIATION_Independent</th>\n",
              "      <th>AFFILIATION_Other</th>\n",
              "      <th>CLASSIFICATION_C1000</th>\n",
              "      <th>CLASSIFICATION_C1200</th>\n",
              "      <th>CLASSIFICATION_C2000</th>\n",
              "      <th>CLASSIFICATION_C2100</th>\n",
              "      <th>CLASSIFICATION_C3000</th>\n",
              "      <th>CLASSIFICATION_Other</th>\n",
              "      <th>USE_CASE_Other</th>\n",
              "      <th>USE_CASE_Preservation</th>\n",
              "      <th>USE_CASE_ProductDev</th>\n",
              "      <th>ORGANIZATION_Association</th>\n",
              "      <th>ORGANIZATION_Other</th>\n",
              "      <th>ORGANIZATION_Trust</th>\n",
              "      <th>INCOME_AMT_0</th>\n",
              "      <th>INCOME_AMT_1-9999</th>\n",
              "      <th>INCOME_AMT_10000-24999</th>\n",
              "      <th>INCOME_AMT_100000-499999</th>\n",
              "      <th>INCOME_AMT_10M-50M</th>\n",
              "      <th>INCOME_AMT_1M-5M</th>\n",
              "      <th>INCOME_AMT_25000-99999</th>\n",
              "      <th>INCOME_AMT_50M+</th>\n",
              "      <th>INCOME_AMT_5M-10M</th>\n",
              "    </tr>\n",
              "  </thead>\n",
              "  <tbody>\n",
              "    <tr>\n",
              "      <th>0</th>\n",
              "      <td>5000</td>\n",
              "      <td>1</td>\n",
              "      <td>1.0</td>\n",
              "      <td>0.0</td>\n",
              "      <td>0.0</td>\n",
              "      <td>0.0</td>\n",
              "      <td>0.0</td>\n",
              "      <td>0.0</td>\n",
              "      <td>0.0</td>\n",
              "      <td>1.0</td>\n",
              "      <td>0.0</td>\n",
              "      <td>1.0</td>\n",
              "      <td>0.0</td>\n",
              "      <td>0.0</td>\n",
              "      <td>0.0</td>\n",
              "      <td>0.0</td>\n",
              "      <td>0.0</td>\n",
              "      <td>0.0</td>\n",
              "      <td>0.0</td>\n",
              "      <td>1.0</td>\n",
              "      <td>1.0</td>\n",
              "      <td>0.0</td>\n",
              "      <td>0.0</td>\n",
              "      <td>1.0</td>\n",
              "      <td>0.0</td>\n",
              "      <td>0.0</td>\n",
              "      <td>0.0</td>\n",
              "      <td>0.0</td>\n",
              "      <td>0.0</td>\n",
              "      <td>0.0</td>\n",
              "      <td>0.0</td>\n",
              "      <td>0.0</td>\n",
              "    </tr>\n",
              "    <tr>\n",
              "      <th>1</th>\n",
              "      <td>108590</td>\n",
              "      <td>1</td>\n",
              "      <td>0.0</td>\n",
              "      <td>0.0</td>\n",
              "      <td>1.0</td>\n",
              "      <td>0.0</td>\n",
              "      <td>0.0</td>\n",
              "      <td>0.0</td>\n",
              "      <td>0.0</td>\n",
              "      <td>1.0</td>\n",
              "      <td>0.0</td>\n",
              "      <td>0.0</td>\n",
              "      <td>0.0</td>\n",
              "      <td>1.0</td>\n",
              "      <td>0.0</td>\n",
              "      <td>0.0</td>\n",
              "      <td>0.0</td>\n",
              "      <td>0.0</td>\n",
              "      <td>1.0</td>\n",
              "      <td>0.0</td>\n",
              "      <td>0.0</td>\n",
              "      <td>1.0</td>\n",
              "      <td>0.0</td>\n",
              "      <td>0.0</td>\n",
              "      <td>1.0</td>\n",
              "      <td>0.0</td>\n",
              "      <td>0.0</td>\n",
              "      <td>0.0</td>\n",
              "      <td>0.0</td>\n",
              "      <td>0.0</td>\n",
              "      <td>0.0</td>\n",
              "      <td>0.0</td>\n",
              "    </tr>\n",
              "  </tbody>\n",
              "</table>\n",
              "</div>\n",
              "      <button class=\"colab-df-convert\" onclick=\"convertToInteractive('df-7493365e-0e8e-4893-ac29-fd493708ebca')\"\n",
              "              title=\"Convert this dataframe to an interactive table.\"\n",
              "              style=\"display:none;\">\n",
              "        \n",
              "  <svg xmlns=\"http://www.w3.org/2000/svg\" height=\"24px\"viewBox=\"0 0 24 24\"\n",
              "       width=\"24px\">\n",
              "    <path d=\"M0 0h24v24H0V0z\" fill=\"none\"/>\n",
              "    <path d=\"M18.56 5.44l.94 2.06.94-2.06 2.06-.94-2.06-.94-.94-2.06-.94 2.06-2.06.94zm-11 1L8.5 8.5l.94-2.06 2.06-.94-2.06-.94L8.5 2.5l-.94 2.06-2.06.94zm10 10l.94 2.06.94-2.06 2.06-.94-2.06-.94-.94-2.06-.94 2.06-2.06.94z\"/><path d=\"M17.41 7.96l-1.37-1.37c-.4-.4-.92-.59-1.43-.59-.52 0-1.04.2-1.43.59L10.3 9.45l-7.72 7.72c-.78.78-.78 2.05 0 2.83L4 21.41c.39.39.9.59 1.41.59.51 0 1.02-.2 1.41-.59l7.78-7.78 2.81-2.81c.8-.78.8-2.07 0-2.86zM5.41 20L4 18.59l7.72-7.72 1.47 1.35L5.41 20z\"/>\n",
              "  </svg>\n",
              "      </button>\n",
              "      \n",
              "  <style>\n",
              "    .colab-df-container {\n",
              "      display:flex;\n",
              "      flex-wrap:wrap;\n",
              "      gap: 12px;\n",
              "    }\n",
              "\n",
              "    .colab-df-convert {\n",
              "      background-color: #E8F0FE;\n",
              "      border: none;\n",
              "      border-radius: 50%;\n",
              "      cursor: pointer;\n",
              "      display: none;\n",
              "      fill: #1967D2;\n",
              "      height: 32px;\n",
              "      padding: 0 0 0 0;\n",
              "      width: 32px;\n",
              "    }\n",
              "\n",
              "    .colab-df-convert:hover {\n",
              "      background-color: #E2EBFA;\n",
              "      box-shadow: 0px 1px 2px rgba(60, 64, 67, 0.3), 0px 1px 3px 1px rgba(60, 64, 67, 0.15);\n",
              "      fill: #174EA6;\n",
              "    }\n",
              "\n",
              "    [theme=dark] .colab-df-convert {\n",
              "      background-color: #3B4455;\n",
              "      fill: #D2E3FC;\n",
              "    }\n",
              "\n",
              "    [theme=dark] .colab-df-convert:hover {\n",
              "      background-color: #434B5C;\n",
              "      box-shadow: 0px 1px 3px 1px rgba(0, 0, 0, 0.15);\n",
              "      filter: drop-shadow(0px 1px 2px rgba(0, 0, 0, 0.3));\n",
              "      fill: #FFFFFF;\n",
              "    }\n",
              "  </style>\n",
              "\n",
              "      <script>\n",
              "        const buttonEl =\n",
              "          document.querySelector('#df-7493365e-0e8e-4893-ac29-fd493708ebca button.colab-df-convert');\n",
              "        buttonEl.style.display =\n",
              "          google.colab.kernel.accessAllowed ? 'block' : 'none';\n",
              "\n",
              "        async function convertToInteractive(key) {\n",
              "          const element = document.querySelector('#df-7493365e-0e8e-4893-ac29-fd493708ebca');\n",
              "          const dataTable =\n",
              "            await google.colab.kernel.invokeFunction('convertToInteractive',\n",
              "                                                     [key], {});\n",
              "          if (!dataTable) return;\n",
              "\n",
              "          const docLinkHtml = 'Like what you see? Visit the ' +\n",
              "            '<a target=\"_blank\" href=https://colab.research.google.com/notebooks/data_table.ipynb>data table notebook</a>'\n",
              "            + ' to learn more about interactive tables.';\n",
              "          element.innerHTML = '';\n",
              "          dataTable['output_type'] = 'display_data';\n",
              "          await google.colab.output.renderOutput(dataTable, element);\n",
              "          const docLink = document.createElement('div');\n",
              "          docLink.innerHTML = docLinkHtml;\n",
              "          element.appendChild(docLink);\n",
              "        }\n",
              "      </script>\n",
              "    </div>\n",
              "  </div>\n",
              "  "
            ]
          },
          "metadata": {},
          "execution_count": 19
        }
      ]
    },
    {
      "cell_type": "markdown",
      "source": [
        "## <font color='lightgreen'>Build Neural Network Model"
      ],
      "metadata": {
        "id": "UUMB2BjnVxpm"
      }
    },
    {
      "cell_type": "code",
      "source": [
        "# Split our preprocessed data into our features and target arrays\n",
        "X = prepped_df.drop('IS_SUCCESSFUL', axis=1).values\n",
        "y = prepped_df.IS_SUCCESSFUL.values\n",
        "\n",
        "# Split the preprocessed data into a training and testing dataset\n",
        "X_train, X_test, y_train, y_test = train_test_split(X, y, stratify=y, train_size=.80)"
      ],
      "metadata": {
        "id": "gSaii31mV0Lk"
      },
      "execution_count": null,
      "outputs": []
    },
    {
      "cell_type": "code",
      "source": [
        "# Create a StandardScaler instances\n",
        "scaler = StandardScaler()\n",
        "\n",
        "# Fit the StandardScaler\n",
        "X_scaler = scaler.fit(X_train)\n",
        "\n",
        "# Scale the data\n",
        "X_train_scaled = X_scaler.transform(X_train)\n",
        "X_test_scaled = X_scaler.transform(X_test)"
      ],
      "metadata": {
        "id": "NF6p4rwNV5hX"
      },
      "execution_count": null,
      "outputs": []
    },
    {
      "cell_type": "code",
      "source": [
        "# Create model function for automatic hyperparameter adjustment\n",
        "def build_model(hp):\n",
        "    nn = tf.keras.models.Sequential()\n",
        "\n",
        "    # choose activation function\n",
        "    activation = hp.Choice('activation',['relu','tanh','sigmoid'])\n",
        "    \n",
        "    # choose neuron count on first layer\n",
        "    nn.add(tf.keras.layers.Dense(units=hp.Int('first_units',\n",
        "        min_value=3,\n",
        "        max_value=73,\n",
        "        step=7), activation=activation, input_dim=len(X_train_scaled[0])))\n",
        "\n",
        "    # choose number of hidden layers and neurons in each\n",
        "    for i in range(hp.Int('num_layers', 0, 3)):\n",
        "        nn.add(tf.keras.layers.Dense(units=hp.Int('units_' + str(i),\n",
        "            min_value=3,\n",
        "            max_value=73,\n",
        "            step=7),\n",
        "            activation=activation))\n",
        "    \n",
        "    nn.add(tf.keras.layers.Dense(units=1, activation=\"sigmoid\"))\n",
        "\n",
        "    # Compile the model\n",
        "    nn.compile(loss=\"binary_crossentropy\", optimizer='adam', metrics=[\"accuracy\"])\n",
        "    \n",
        "    return nn"
      ],
      "metadata": {
        "id": "D9JyRlzpszKs"
      },
      "execution_count": null,
      "outputs": []
    },
    {
      "cell_type": "code",
      "source": [
        "pip install -q -U keras-tuner"
      ],
      "metadata": {
        "colab": {
          "base_uri": "https://localhost:8080/"
        },
        "id": "geV9_Ll04b9A",
        "outputId": "b10fc850-d248-42bf-b707-8a3f1495e331"
      },
      "execution_count": null,
      "outputs": [
        {
          "output_type": "stream",
          "name": "stdout",
          "text": [
            "\u001b[?25l\r\u001b[K     |██▍                             | 10 kB 22.7 MB/s eta 0:00:01\r\u001b[K     |████▉                           | 20 kB 15.4 MB/s eta 0:00:01\r\u001b[K     |███████▎                        | 30 kB 7.6 MB/s eta 0:00:01\r\u001b[K     |█████████▋                      | 40 kB 3.9 MB/s eta 0:00:01\r\u001b[K     |████████████                    | 51 kB 3.7 MB/s eta 0:00:01\r\u001b[K     |██████████████▌                 | 61 kB 4.4 MB/s eta 0:00:01\r\u001b[K     |█████████████████               | 71 kB 4.6 MB/s eta 0:00:01\r\u001b[K     |███████████████████▎            | 81 kB 5.2 MB/s eta 0:00:01\r\u001b[K     |█████████████████████▊          | 92 kB 5.3 MB/s eta 0:00:01\r\u001b[K     |████████████████████████▏       | 102 kB 4.4 MB/s eta 0:00:01\r\u001b[K     |██████████████████████████▋     | 112 kB 4.4 MB/s eta 0:00:01\r\u001b[K     |█████████████████████████████   | 122 kB 4.4 MB/s eta 0:00:01\r\u001b[K     |███████████████████████████████▍| 133 kB 4.4 MB/s eta 0:00:01\r\u001b[K     |████████████████████████████████| 135 kB 4.4 MB/s \n",
            "\u001b[?25h"
          ]
        }
      ]
    },
    {
      "cell_type": "code",
      "source": [
        "# Import the kerastuner library\n",
        "import keras_tuner as kt\n",
        "\n",
        "tuner = kt.Hyperband(\n",
        "    build_model,\n",
        "    objective=\"val_accuracy\",\n",
        "    max_epochs=20,\n",
        "    hyperband_iterations=2)"
      ],
      "metadata": {
        "id": "fA53J8drV6RB"
      },
      "execution_count": null,
      "outputs": []
    },
    {
      "cell_type": "code",
      "source": [
        "# Run the kerastuner search\n",
        "tuner.search(X_train_scaled,y_train,epochs=20,validation_data=(X_test_scaled,y_test))"
      ],
      "metadata": {
        "colab": {
          "base_uri": "https://localhost:8080/"
        },
        "id": "xzzs1uRPufgs",
        "outputId": "97a7a7d8-f624-4286-bdd4-05268b91d219"
      },
      "execution_count": null,
      "outputs": [
        {
          "output_type": "stream",
          "name": "stdout",
          "text": [
            "Trial 60 Complete [00h 01m 23s]\n",
            "val_accuracy: 0.7265306115150452\n",
            "\n",
            "Best val_accuracy So Far: 0.7300291657447815\n",
            "Total elapsed time: 00h 21m 25s\n",
            "INFO:tensorflow:Oracle triggered exit\n"
          ]
        }
      ]
    },
    {
      "cell_type": "code",
      "source": [
        "# Get best model \n",
        "best_hp = tuner.get_best_hyperparameters(1)[0]\n",
        "best_hp.values"
      ],
      "metadata": {
        "id": "DUxn0kJuu1tl",
        "colab": {
          "base_uri": "https://localhost:8080/"
        },
        "outputId": "2391dd63-fd3c-4213-e675-604a2ede7f61"
      },
      "execution_count": null,
      "outputs": [
        {
          "output_type": "execute_result",
          "data": {
            "text/plain": [
              "{'activation': 'relu',\n",
              " 'first_units': 73,\n",
              " 'num_layers': 3,\n",
              " 'tuner/bracket': 0,\n",
              " 'tuner/epochs': 20,\n",
              " 'tuner/initial_epoch': 0,\n",
              " 'tuner/round': 0,\n",
              " 'units_0': 31,\n",
              " 'units_1': 3,\n",
              " 'units_2': 31}"
            ]
          },
          "metadata": {},
          "execution_count": 26
        }
      ]
    },
    {
      "cell_type": "code",
      "source": [
        "# Evaluate best model \n",
        "best_mod = tuner.get_best_models(1)[0]\n",
        "model_loss, model_accuracy = best_mod.evaluate(X_test_scaled,y_test,verbose=2)\n",
        "print(f\"Loss: {model_loss}, Accuracy: {model_accuracy}\")"
      ],
      "metadata": {
        "id": "6417gXZZu5Yt",
        "colab": {
          "base_uri": "https://localhost:8080/"
        },
        "outputId": "5f428128-6471-449f-cc9c-a6f03a746e75"
      },
      "execution_count": null,
      "outputs": [
        {
          "output_type": "stream",
          "name": "stdout",
          "text": [
            "215/215 - 1s - loss: 0.5573 - accuracy: 0.7300 - 516ms/epoch - 2ms/step\n",
            "Loss: 0.5572847127914429, Accuracy: 0.7300291657447815\n"
          ]
        }
      ]
    },
    {
      "cell_type": "code",
      "source": [
        "# Import checkpoint dependencies\n",
        "import os\n",
        "from tensorflow.keras.callbacks import ModelCheckpoint\n",
        "\n",
        "# Define the checkpoint path and filenames\n",
        "os.makedirs(\"checkpoints/\",exist_ok=True)\n",
        "checkpoint_path = \"checkpoints/weights.{epoch:02d}.hdf5\"    "
      ],
      "metadata": {
        "id": "H_egkaeRV_wm"
      },
      "execution_count": null,
      "outputs": []
    },
    {
      "cell_type": "code",
      "source": [
        "# Create a callback to save weights every 5th epoch\n",
        "cp_callback = ModelCheckpoint(\n",
        "    filepath=checkpoint_path,\n",
        "    verbose=1,\n",
        "    save_weights_only=True,\n",
        "    save_freq='epoch',\n",
        "    period=5)"
      ],
      "metadata": {
        "colab": {
          "base_uri": "https://localhost:8080/"
        },
        "id": "FMXmBQPJTrHu",
        "outputId": "400f43e6-0eda-494c-b3c4-15a785d5ad98"
      },
      "execution_count": null,
      "outputs": [
        {
          "output_type": "stream",
          "name": "stdout",
          "text": [
            "WARNING:tensorflow:`period` argument is deprecated. Please use `save_freq` to specify the frequency in number of batches seen.\n"
          ]
        }
      ]
    },
    {
      "cell_type": "code",
      "source": [
        "# Build model using best hyperparameters \n",
        "model = tuner.hypermodel.build(best_hp)\n",
        "history = model.fit(X_train_scaled, y_train, epochs=100, callbacks=[cp_callback])\n",
        "\n",
        "acc_per_epoch = history.history['accuracy']\n",
        "best_epoch = acc_per_epoch.index(max(acc_per_epoch)) + 1\n",
        "print('Best epoch: %d' % (best_epoch,))"
      ],
      "metadata": {
        "colab": {
          "base_uri": "https://localhost:8080/"
        },
        "id": "Ym5Q1PM4SqYx",
        "outputId": "b65c353c-b4dc-4ddf-c776-d83160c7d14b"
      },
      "execution_count": null,
      "outputs": [
        {
          "output_type": "stream",
          "name": "stdout",
          "text": [
            "Epoch 1/100\n",
            "858/858 [==============================] - 3s 3ms/step - loss: 0.5877 - accuracy: 0.7143\n",
            "Epoch 2/100\n",
            "858/858 [==============================] - 4s 4ms/step - loss: 0.5626 - accuracy: 0.7286\n",
            "Epoch 3/100\n",
            "858/858 [==============================] - 4s 5ms/step - loss: 0.5574 - accuracy: 0.7302\n",
            "Epoch 4/100\n",
            "858/858 [==============================] - 4s 5ms/step - loss: 0.5544 - accuracy: 0.7301\n",
            "Epoch 5/100\n",
            "856/858 [============================>.] - ETA: 0s - loss: 0.5533 - accuracy: 0.7318\n",
            "Epoch 5: saving model to checkpoints/weights.05.hdf5\n",
            "858/858 [==============================] - 5s 6ms/step - loss: 0.5533 - accuracy: 0.7319\n",
            "Epoch 6/100\n",
            "858/858 [==============================] - 4s 5ms/step - loss: 0.5528 - accuracy: 0.7309\n",
            "Epoch 7/100\n",
            "858/858 [==============================] - 5s 5ms/step - loss: 0.5518 - accuracy: 0.7325\n",
            "Epoch 8/100\n",
            "858/858 [==============================] - 5s 5ms/step - loss: 0.5506 - accuracy: 0.7326\n",
            "Epoch 9/100\n",
            "858/858 [==============================] - 4s 4ms/step - loss: 0.5503 - accuracy: 0.7328\n",
            "Epoch 10/100\n",
            "854/858 [============================>.] - ETA: 0s - loss: 0.5501 - accuracy: 0.7316\n",
            "Epoch 10: saving model to checkpoints/weights.10.hdf5\n",
            "858/858 [==============================] - 2s 2ms/step - loss: 0.5500 - accuracy: 0.7319\n",
            "Epoch 11/100\n",
            "858/858 [==============================] - 2s 2ms/step - loss: 0.5499 - accuracy: 0.7330\n",
            "Epoch 12/100\n",
            "858/858 [==============================] - 2s 2ms/step - loss: 0.5491 - accuracy: 0.7333\n",
            "Epoch 13/100\n",
            "858/858 [==============================] - 2s 2ms/step - loss: 0.5491 - accuracy: 0.7331\n",
            "Epoch 14/100\n",
            "858/858 [==============================] - 2s 2ms/step - loss: 0.5490 - accuracy: 0.7332\n",
            "Epoch 15/100\n",
            "851/858 [============================>.] - ETA: 0s - loss: 0.5487 - accuracy: 0.7350\n",
            "Epoch 15: saving model to checkpoints/weights.15.hdf5\n",
            "858/858 [==============================] - 2s 2ms/step - loss: 0.5486 - accuracy: 0.7349\n",
            "Epoch 16/100\n",
            "858/858 [==============================] - 2s 2ms/step - loss: 0.5480 - accuracy: 0.7347\n",
            "Epoch 17/100\n",
            "858/858 [==============================] - 2s 2ms/step - loss: 0.5482 - accuracy: 0.7336\n",
            "Epoch 18/100\n",
            "858/858 [==============================] - 2s 2ms/step - loss: 0.5480 - accuracy: 0.7348\n",
            "Epoch 19/100\n",
            "858/858 [==============================] - 2s 2ms/step - loss: 0.5471 - accuracy: 0.7350\n",
            "Epoch 20/100\n",
            "843/858 [============================>.] - ETA: 0s - loss: 0.5477 - accuracy: 0.7329\n",
            "Epoch 20: saving model to checkpoints/weights.20.hdf5\n",
            "858/858 [==============================] - 2s 2ms/step - loss: 0.5473 - accuracy: 0.7334\n",
            "Epoch 21/100\n",
            "858/858 [==============================] - 2s 2ms/step - loss: 0.5476 - accuracy: 0.7351\n",
            "Epoch 22/100\n",
            "858/858 [==============================] - 2s 2ms/step - loss: 0.5464 - accuracy: 0.7352\n",
            "Epoch 23/100\n",
            "858/858 [==============================] - 2s 2ms/step - loss: 0.5467 - accuracy: 0.7352\n",
            "Epoch 24/100\n",
            "858/858 [==============================] - 2s 2ms/step - loss: 0.5464 - accuracy: 0.7352\n",
            "Epoch 25/100\n",
            "841/858 [============================>.] - ETA: 0s - loss: 0.5467 - accuracy: 0.7346\n",
            "Epoch 25: saving model to checkpoints/weights.25.hdf5\n",
            "858/858 [==============================] - 2s 2ms/step - loss: 0.5465 - accuracy: 0.7349\n",
            "Epoch 26/100\n",
            "858/858 [==============================] - 2s 2ms/step - loss: 0.5462 - accuracy: 0.7366\n",
            "Epoch 27/100\n",
            "858/858 [==============================] - 2s 2ms/step - loss: 0.5464 - accuracy: 0.7345\n",
            "Epoch 28/100\n",
            "858/858 [==============================] - 2s 2ms/step - loss: 0.5457 - accuracy: 0.7361\n",
            "Epoch 29/100\n",
            "858/858 [==============================] - 2s 2ms/step - loss: 0.5459 - accuracy: 0.7353\n",
            "Epoch 30/100\n",
            "837/858 [============================>.] - ETA: 0s - loss: 0.5452 - accuracy: 0.7361\n",
            "Epoch 30: saving model to checkpoints/weights.30.hdf5\n",
            "858/858 [==============================] - 2s 2ms/step - loss: 0.5455 - accuracy: 0.7358\n",
            "Epoch 31/100\n",
            "858/858 [==============================] - 2s 2ms/step - loss: 0.5452 - accuracy: 0.7357\n",
            "Epoch 32/100\n",
            "858/858 [==============================] - 2s 2ms/step - loss: 0.5451 - accuracy: 0.7357\n",
            "Epoch 33/100\n",
            "858/858 [==============================] - 2s 2ms/step - loss: 0.5452 - accuracy: 0.7349\n",
            "Epoch 34/100\n",
            "858/858 [==============================] - 2s 2ms/step - loss: 0.5450 - accuracy: 0.7364\n",
            "Epoch 35/100\n",
            "850/858 [============================>.] - ETA: 0s - loss: 0.5449 - accuracy: 0.7361\n",
            "Epoch 35: saving model to checkpoints/weights.35.hdf5\n",
            "858/858 [==============================] - 3s 4ms/step - loss: 0.5448 - accuracy: 0.7359\n",
            "Epoch 36/100\n",
            "858/858 [==============================] - 3s 3ms/step - loss: 0.5448 - accuracy: 0.7370\n",
            "Epoch 37/100\n",
            "858/858 [==============================] - 2s 2ms/step - loss: 0.5445 - accuracy: 0.7377\n",
            "Epoch 38/100\n",
            "858/858 [==============================] - 2s 2ms/step - loss: 0.5454 - accuracy: 0.7370\n",
            "Epoch 39/100\n",
            "858/858 [==============================] - 2s 2ms/step - loss: 0.5447 - accuracy: 0.7357\n",
            "Epoch 40/100\n",
            "845/858 [============================>.] - ETA: 0s - loss: 0.5446 - accuracy: 0.7373\n",
            "Epoch 40: saving model to checkpoints/weights.40.hdf5\n",
            "858/858 [==============================] - 2s 2ms/step - loss: 0.5446 - accuracy: 0.7373\n",
            "Epoch 41/100\n",
            "858/858 [==============================] - 2s 2ms/step - loss: 0.5439 - accuracy: 0.7368\n",
            "Epoch 42/100\n",
            "858/858 [==============================] - 2s 2ms/step - loss: 0.5444 - accuracy: 0.7367\n",
            "Epoch 43/100\n",
            "858/858 [==============================] - 2s 2ms/step - loss: 0.5444 - accuracy: 0.7369\n",
            "Epoch 44/100\n",
            "858/858 [==============================] - 2s 2ms/step - loss: 0.5446 - accuracy: 0.7367\n",
            "Epoch 45/100\n",
            "845/858 [============================>.] - ETA: 0s - loss: 0.5438 - accuracy: 0.7369\n",
            "Epoch 45: saving model to checkpoints/weights.45.hdf5\n",
            "858/858 [==============================] - 2s 2ms/step - loss: 0.5437 - accuracy: 0.7372\n",
            "Epoch 46/100\n",
            "858/858 [==============================] - 2s 2ms/step - loss: 0.5443 - accuracy: 0.7363\n",
            "Epoch 47/100\n",
            "858/858 [==============================] - 2s 2ms/step - loss: 0.5439 - accuracy: 0.7369\n",
            "Epoch 48/100\n",
            "858/858 [==============================] - 2s 2ms/step - loss: 0.5439 - accuracy: 0.7358\n",
            "Epoch 49/100\n",
            "858/858 [==============================] - 2s 2ms/step - loss: 0.5436 - accuracy: 0.7371\n",
            "Epoch 50/100\n",
            "851/858 [============================>.] - ETA: 0s - loss: 0.5429 - accuracy: 0.7380\n",
            "Epoch 50: saving model to checkpoints/weights.50.hdf5\n",
            "858/858 [==============================] - 2s 2ms/step - loss: 0.5433 - accuracy: 0.7375\n",
            "Epoch 51/100\n",
            "858/858 [==============================] - 2s 2ms/step - loss: 0.5434 - accuracy: 0.7380\n",
            "Epoch 52/100\n",
            "858/858 [==============================] - 2s 2ms/step - loss: 0.5436 - accuracy: 0.7363\n",
            "Epoch 53/100\n",
            "858/858 [==============================] - 2s 2ms/step - loss: 0.5434 - accuracy: 0.7375\n",
            "Epoch 54/100\n",
            "858/858 [==============================] - 3s 3ms/step - loss: 0.5432 - accuracy: 0.7373\n",
            "Epoch 55/100\n",
            "841/858 [============================>.] - ETA: 0s - loss: 0.5427 - accuracy: 0.7377\n",
            "Epoch 55: saving model to checkpoints/weights.55.hdf5\n",
            "858/858 [==============================] - 3s 4ms/step - loss: 0.5434 - accuracy: 0.7370\n",
            "Epoch 56/100\n",
            "858/858 [==============================] - 2s 2ms/step - loss: 0.5430 - accuracy: 0.7373\n",
            "Epoch 57/100\n",
            "858/858 [==============================] - 2s 2ms/step - loss: 0.5426 - accuracy: 0.7384\n",
            "Epoch 58/100\n",
            "858/858 [==============================] - 2s 2ms/step - loss: 0.5429 - accuracy: 0.7367\n",
            "Epoch 59/100\n",
            "858/858 [==============================] - 2s 3ms/step - loss: 0.5428 - accuracy: 0.7371\n",
            "Epoch 60/100\n",
            "858/858 [==============================] - ETA: 0s - loss: 0.5422 - accuracy: 0.7374\n",
            "Epoch 60: saving model to checkpoints/weights.60.hdf5\n",
            "858/858 [==============================] - 2s 2ms/step - loss: 0.5422 - accuracy: 0.7374\n",
            "Epoch 61/100\n",
            "858/858 [==============================] - 2s 2ms/step - loss: 0.5423 - accuracy: 0.7381\n",
            "Epoch 62/100\n",
            "858/858 [==============================] - 2s 2ms/step - loss: 0.5421 - accuracy: 0.7379\n",
            "Epoch 63/100\n",
            "858/858 [==============================] - 2s 2ms/step - loss: 0.5420 - accuracy: 0.7381\n",
            "Epoch 64/100\n",
            "858/858 [==============================] - 2s 2ms/step - loss: 0.5424 - accuracy: 0.7381\n",
            "Epoch 65/100\n",
            "846/858 [============================>.] - ETA: 0s - loss: 0.5421 - accuracy: 0.7380\n",
            "Epoch 65: saving model to checkpoints/weights.65.hdf5\n",
            "858/858 [==============================] - 2s 2ms/step - loss: 0.5417 - accuracy: 0.7381\n",
            "Epoch 66/100\n",
            "858/858 [==============================] - 2s 2ms/step - loss: 0.5421 - accuracy: 0.7381\n",
            "Epoch 67/100\n",
            "858/858 [==============================] - 2s 2ms/step - loss: 0.5420 - accuracy: 0.7384\n",
            "Epoch 68/100\n",
            "858/858 [==============================] - 2s 2ms/step - loss: 0.5418 - accuracy: 0.7383\n",
            "Epoch 69/100\n",
            "858/858 [==============================] - 2s 2ms/step - loss: 0.5417 - accuracy: 0.7391\n",
            "Epoch 70/100\n",
            "838/858 [============================>.] - ETA: 0s - loss: 0.5419 - accuracy: 0.7381\n",
            "Epoch 70: saving model to checkpoints/weights.70.hdf5\n",
            "858/858 [==============================] - 2s 2ms/step - loss: 0.5416 - accuracy: 0.7385\n",
            "Epoch 71/100\n",
            "858/858 [==============================] - 2s 2ms/step - loss: 0.5414 - accuracy: 0.7388\n",
            "Epoch 72/100\n",
            "858/858 [==============================] - 2s 2ms/step - loss: 0.5418 - accuracy: 0.7385\n",
            "Epoch 73/100\n",
            "858/858 [==============================] - 2s 2ms/step - loss: 0.5423 - accuracy: 0.7383\n",
            "Epoch 74/100\n",
            "858/858 [==============================] - 2s 2ms/step - loss: 0.5412 - accuracy: 0.7390\n",
            "Epoch 75/100\n",
            "846/858 [============================>.] - ETA: 0s - loss: 0.5414 - accuracy: 0.7381\n",
            "Epoch 75: saving model to checkpoints/weights.75.hdf5\n",
            "858/858 [==============================] - 2s 2ms/step - loss: 0.5416 - accuracy: 0.7381\n",
            "Epoch 76/100\n",
            "858/858 [==============================] - 2s 2ms/step - loss: 0.5413 - accuracy: 0.7386\n",
            "Epoch 77/100\n",
            "858/858 [==============================] - 2s 2ms/step - loss: 0.5414 - accuracy: 0.7380\n",
            "Epoch 78/100\n",
            "858/858 [==============================] - 2s 2ms/step - loss: 0.5411 - accuracy: 0.7392\n",
            "Epoch 79/100\n",
            "858/858 [==============================] - 2s 2ms/step - loss: 0.5409 - accuracy: 0.7384\n",
            "Epoch 80/100\n",
            "843/858 [============================>.] - ETA: 0s - loss: 0.5407 - accuracy: 0.7386\n",
            "Epoch 80: saving model to checkpoints/weights.80.hdf5\n",
            "858/858 [==============================] - 2s 2ms/step - loss: 0.5410 - accuracy: 0.7386\n",
            "Epoch 81/100\n",
            "858/858 [==============================] - 2s 2ms/step - loss: 0.5411 - accuracy: 0.7387\n",
            "Epoch 82/100\n",
            "858/858 [==============================] - 2s 2ms/step - loss: 0.5413 - accuracy: 0.7387\n",
            "Epoch 83/100\n",
            "858/858 [==============================] - 2s 2ms/step - loss: 0.5412 - accuracy: 0.7387\n",
            "Epoch 84/100\n",
            "858/858 [==============================] - 2s 2ms/step - loss: 0.5408 - accuracy: 0.7381\n",
            "Epoch 85/100\n",
            "852/858 [============================>.] - ETA: 0s - loss: 0.5409 - accuracy: 0.7379\n",
            "Epoch 85: saving model to checkpoints/weights.85.hdf5\n",
            "858/858 [==============================] - 2s 2ms/step - loss: 0.5410 - accuracy: 0.7378\n",
            "Epoch 86/100\n",
            "858/858 [==============================] - 2s 2ms/step - loss: 0.5407 - accuracy: 0.7379\n",
            "Epoch 87/100\n",
            "858/858 [==============================] - 2s 2ms/step - loss: 0.5404 - accuracy: 0.7390\n",
            "Epoch 88/100\n",
            "858/858 [==============================] - 2s 2ms/step - loss: 0.5404 - accuracy: 0.7389\n",
            "Epoch 89/100\n",
            "858/858 [==============================] - 4s 5ms/step - loss: 0.5404 - accuracy: 0.7384\n",
            "Epoch 90/100\n",
            "849/858 [============================>.] - ETA: 0s - loss: 0.5403 - accuracy: 0.7392\n",
            "Epoch 90: saving model to checkpoints/weights.90.hdf5\n",
            "858/858 [==============================] - 4s 5ms/step - loss: 0.5404 - accuracy: 0.7391\n",
            "Epoch 91/100\n",
            "858/858 [==============================] - 4s 5ms/step - loss: 0.5408 - accuracy: 0.7387\n",
            "Epoch 92/100\n",
            "858/858 [==============================] - 5s 6ms/step - loss: 0.5404 - accuracy: 0.7387\n",
            "Epoch 93/100\n",
            "858/858 [==============================] - 5s 5ms/step - loss: 0.5404 - accuracy: 0.7390\n",
            "Epoch 94/100\n",
            "858/858 [==============================] - 4s 5ms/step - loss: 0.5400 - accuracy: 0.7385\n",
            "Epoch 95/100\n",
            "848/858 [============================>.] - ETA: 0s - loss: 0.5395 - accuracy: 0.7391\n",
            "Epoch 95: saving model to checkpoints/weights.95.hdf5\n",
            "858/858 [==============================] - 4s 5ms/step - loss: 0.5400 - accuracy: 0.7387\n",
            "Epoch 96/100\n",
            "858/858 [==============================] - 5s 5ms/step - loss: 0.5406 - accuracy: 0.7392\n",
            "Epoch 97/100\n",
            "858/858 [==============================] - 4s 4ms/step - loss: 0.5401 - accuracy: 0.7382\n",
            "Epoch 98/100\n",
            "858/858 [==============================] - 2s 2ms/step - loss: 0.5401 - accuracy: 0.7392\n",
            "Epoch 99/100\n",
            "858/858 [==============================] - 2s 2ms/step - loss: 0.5404 - accuracy: 0.7392\n",
            "Epoch 100/100\n",
            "858/858 [==============================] - ETA: 0s - loss: 0.5403 - accuracy: 0.7389\n",
            "Epoch 100: saving model to checkpoints/weights.100.hdf5\n",
            "858/858 [==============================] - 3s 3ms/step - loss: 0.5403 - accuracy: 0.7389\n",
            "Best epoch: 78\n"
          ]
        }
      ]
    },
    {
      "cell_type": "code",
      "source": [
        "# Export our model to HDF5 file\n",
        "model.save(\"AlphabetSoupCharity.h5\")"
      ],
      "metadata": {
        "id": "1qfyg-tNWJA8"
      },
      "execution_count": null,
      "outputs": []
    },
    {
      "cell_type": "code",
      "source": [
        "# Create a DF containing training history\n",
        "history_df = pd.DataFrame(history.history)"
      ],
      "metadata": {
        "id": "0QE0TrT_okq6"
      },
      "execution_count": null,
      "outputs": []
    },
    {
      "cell_type": "code",
      "source": [
        "# Plot the accuracy by epoch\n",
        "history_df.plot(y='accuracy')"
      ],
      "metadata": {
        "colab": {
          "base_uri": "https://localhost:8080/",
          "height": 282
        },
        "id": "by2MKqcFo0g0",
        "outputId": "d376e5ab-f58c-4586-937b-c52db9b3f5f1"
      },
      "execution_count": null,
      "outputs": [
        {
          "output_type": "execute_result",
          "data": {
            "text/plain": [
              "<matplotlib.axes._subplots.AxesSubplot at 0x7f2853e71b10>"
            ]
          },
          "metadata": {},
          "execution_count": 33
        },
        {
          "output_type": "display_data",
          "data": {
            "text/plain": [
              "<Figure size 432x288 with 1 Axes>"
            ],
            "image/png": "[encoded data removed]"
          },
          "metadata": {
            "needs_background": "light"
          }
        }
      ]
    },
    {
      "cell_type": "code",
      "source": [
        "# Plot the loss by epoch\n",
        "history_df.plot(y='loss')"
      ],
      "metadata": {
        "colab": {
          "base_uri": "https://localhost:8080/",
          "height": 286
        },
        "id": "Ag-E7mDWo2uY",
        "outputId": "57d9eed5-b614-4417-d842-2a04b1c16572"
      },
      "execution_count": null,
      "outputs": [
        {
          "output_type": "execute_result",
          "data": {
            "text/plain": [
              "<matplotlib.axes._subplots.AxesSubplot at 0x7f2853e30550>"
            ]
          },
          "metadata": {},
          "execution_count": 34
        },
        {
          "output_type": "display_data",
          "data": {
            "text/plain": [
              "<Figure size 432x288 with 1 Axes>"
            ],
            "image/png": "[encoded data removed]"
          },
          "metadata": {
            "needs_background": "light"
          }
        }
      ]
    },
    {
      "cell_type": "markdown",
      "source": [
        "<font color='gray'>Optimization Actions:\n",
        "1. Dropped two additional columns that are heavily imbalanced in their value counts: ['STATUS', 'SPECIAL_CONSIDERATIONS']\n",
        "2. Bucketed three additional categories: ['ORGANIZATION','USE_CASE','AFFILIATION']\n",
        "3. Increased Hidden Layer count to best model.\n",
        "4. Adjusted Neuron count for both layers to best model.\n",
        "5. Re established activation function for output layer according to best model.\n",
        "6. Increase epochs hyperparameter to 100\n",
        "7. Implemented keras tuner and implemented the best permutation out of 60.\n",
        "8. Stratify train_test_split() and adjust train/test proportionality to 80/20\n",
        "\n",
        "<font color='gray'>No notable change in accuracy"
      ],
      "metadata": {
        "id": "P65yRvskXIjc"
      }
    }
  ]
}